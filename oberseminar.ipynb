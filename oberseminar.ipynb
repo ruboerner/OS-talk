{
 "cells": [
  {
   "cell_type": "code",
   "execution_count": 1,
   "metadata": {
    "collapsed": false,
    "slideshow": {
     "slide_type": "skip"
    }
   },
   "outputs": [
    {
     "data": {
      "text/plain": [
       "2-element Array{Int64,1}:\n",
       " 2\n",
       " 3"
      ]
     },
     "execution_count": 1,
     "metadata": {},
     "output_type": "execute_result"
    }
   ],
   "source": [
    "addprocs(2)"
   ]
  },
  {
   "cell_type": "markdown",
   "metadata": {
    "slideshow": {
     "slide_type": "slide"
    }
   },
   "source": [
    "![Julia logo](./julia.png)\n",
    "or\n",
    "# Why should I learn yet another programming language...\n",
    "\n",
    "Oberseminar\n",
    "\n",
    "09 June 2016"
   ]
  },
  {
   "cell_type": "markdown",
   "metadata": {
    "slideshow": {
     "slide_type": "slide"
    }
   },
   "source": [
    "## Julia: A high-level dynamic programming language designed for high-performance scientific computing\n",
    "\n",
    ">Julia is a high-level, high-performance dynamic programming language for technical computing, with syntax that is familiar to users of other technical computing environments. It provides a sophisticated compiler, **distributed parallel execution**, numerical accuracy, and an **extensive mathematical function library**. Julia’s Base library, largely written in Julia itself, also integrates mature, best-of-breed open source C and Fortran libraries for **linear algebra**, **random number generation**, **signal processing**, and **string processing**. In addition, the Julia developer community is contributing a number of **external packages** through Julia’s built-in package manager at a rapid pace. **IJulia**, a collaboration between the Jupyter and Julia communities, provides a powerful browser-based graphical notebook interface to Julia.\n",
    "\n",
    "> [www.julialang.org](http://www.julialang.org)"
   ]
  },
  {
   "cell_type": "markdown",
   "metadata": {
    "slideshow": {
     "slide_type": "slide"
    }
   },
   "source": [
    "### Summary of Features\n",
    "* Multiple dispatch: providing ability to define function behavior across many combinations of argument types\n",
    "* Dynamic type system: types for documentation, optimization, and dispatch\n",
    "* Good performance, approaching that of statically-compiled languages like C\n",
    "* Built-in package manager\n",
    "* Call C functions directly: no wrappers or special APIs\n",
    "* Powerful shell-like capabilities for managing other processes\n",
    "* Designed for parallelism and distributed computation\n",
    "* User-defined types are as fast and compact as built-ins\n",
    "* Automatic generation of efficient, specialized code for different argument types\n",
    "* Elegant and extensible conversions and promotions for numeric and other types\n",
    "* MIT licensed: free and open source\n",
    "\n",
    "[www.julialang.org](www.julialang.org)"
   ]
  },
  {
   "cell_type": "markdown",
   "metadata": {
    "slideshow": {
     "slide_type": "slide"
    }
   },
   "source": [
    "### Why choose Julia as an alternative to\n",
    "* Fortran/C/C++\n",
    "* MATLAB\n",
    "* Python\n",
    "* R?"
   ]
  },
  {
   "cell_type": "markdown",
   "metadata": {
    "collapsed": true,
    "slideshow": {
     "slide_type": "fragment"
    }
   },
   "source": [
    "![FORTRAN](fortran_punchcard_s.png)\n",
    "\n",
    "> I don't know what the language of the year 2000 will look like, but I know it will be called Fortran.\n",
    ">\n",
    "> --Tony Hoare, inventor of the Quicksort algorithm, 1980 Turing award recipient"
   ]
  },
  {
   "cell_type": "markdown",
   "metadata": {
    "slideshow": {
     "slide_type": "slide"
    }
   },
   "source": [
    "![History](tests.png)\n",
    "(from Higham, N.: Programming Languages: An Applied Mathematics View)"
   ]
  },
  {
   "cell_type": "markdown",
   "metadata": {
    "slideshow": {
     "slide_type": "notes"
    }
   },
   "source": [
    "We distinguish **programming languages** like Fortran, C, C++ from **problem solving environments** like MATLAB, Julia, and R."
   ]
  },
  {
   "cell_type": "markdown",
   "metadata": {
    "slideshow": {
     "slide_type": "slide"
    }
   },
   "source": [
    "### What were programming languages developed for?\n",
    "* Fortran: Technical computing (1950)\n",
    "* C: Writing operating systems like UNIX (1970)\n",
    "* Python: System administration (1991)\n",
    "* MATLAB: Numerical computing in education (1984)\n",
    "* Julia: Scientific computing (2012)"
   ]
  },
  {
   "cell_type": "markdown",
   "metadata": {
    "slideshow": {
     "slide_type": "slide"
    }
   },
   "source": [
    "### Programming languages should be ###\n",
    "|             | Fortran | C | Python | MATLAB | Julia |\n",
    "|-------------|:-------:|:-------:|:-------:|:-------:|:-------:|\n",
    "| Efficient   | x       | x |    o    |   o     |   x   |\n",
    "| Interactive |         |   |   x    |    x   |   x   |\n",
    "| Able to run on parallel hardware | x | x |  | o | x |\n",
    "| Able to call libraries without ceremony | x | x |   |   |  x |\n",
    "| Open Source | x | x | x |  |  x |\n",
    "| Open Platform | x | x | x | x | x |\n",
    "\n",
    "> x: yes, o: yes, but..."
   ]
  },
  {
   "cell_type": "markdown",
   "metadata": {
    "slideshow": {
     "slide_type": "slide"
    }
   },
   "source": [
    "### Common practice\n",
    "* Analyze problem using pen and paper\n",
    "* Write code in MATLAB\n",
    "* Test against expected solutions/behaviour\n",
    "* Use profiler to detect slow parts\n",
    "* Rewrite slow parts, i.e., make code unreadable\n",
    "* Rewrite still slow parts in C/Fortran\n",
    "* Identify opportunities for parallelization"
   ]
  },
  {
   "cell_type": "markdown",
   "metadata": {
    "slideshow": {
     "slide_type": "fragment"
    }
   },
   "source": [
    "### Problems\n",
    "* The two-language problem\n",
    "    * Learning a few languages\n",
    "    * Interfacing between languages \n",
    "* Parallelization\n",
    "    * Requires more libraries\n",
    "    * Another level of complexity\n",
    "    * Learning curve"
   ]
  },
  {
   "cell_type": "markdown",
   "metadata": {
    "slideshow": {
     "slide_type": "slide"
    }
   },
   "source": [
    "### Looking for a way out\n",
    "* Write entire program in Julia\n",
    "* Profile Julia code\n",
    "* Optimize Julia code\n",
    "* Parallelize (still in Julia)\n",
    "    * Reuse serial code and introduce one programming pattern"
   ]
  },
  {
   "cell_type": "markdown",
   "metadata": {
    "slideshow": {
     "slide_type": "slide"
    }
   },
   "source": [
    "### A closer look\n",
    "* History of Julia\n",
    "* Two academic examples and one realistic scenario\n",
    "* Exploring Julia's ecosystem\n",
    "    * Packages\n",
    "    * Editors\n",
    "    * IDE\n",
    "    * How to avoid the *two language problem*\n"
   ]
  },
  {
   "cell_type": "markdown",
   "metadata": {
    "slideshow": {
     "slide_type": "slide"
    }
   },
   "source": [
    "### Founders of Julia\n",
    "\n",
    "![Edelman](edelman_s.png)\n",
    "Alan Edelman, MIT Professor of Applied Mathematics\n",
    "\n",
    "![](bezanson_s.png)\n",
    "Jeff Bezanson, PhD\n"
   ]
  },
  {
   "cell_type": "markdown",
   "metadata": {
    "slideshow": {
     "slide_type": "subslide"
    }
   },
   "source": [
    "### Founders of Julia\n",
    "\n",
    "![](karpinski_s.png)\n",
    "Stefan Karpinski, PhD\n",
    "\n",
    "![](shaw_s.png)\n",
    "Viral B. Shaw, PhD"
   ]
  },
  {
   "cell_type": "markdown",
   "metadata": {
    "slideshow": {
     "slide_type": "subslide"
    }
   },
   "source": [
    "> ...Julia was built on the heels of our parallel computing experience with **Star-P** which began as an MIT research project and was a software product of *Interactive Supercomputing*. Our experience taught us that bolting parallelism onto an existing language that was not designed for performance or parallelism is difficult at best, and impossible at worst. One of our (not so secret) motivations to build Julia was to have the language we wanted for parallel numerical computing.\n",
    "\n",
    "> A. Edelman, *Julia: A fresh approach to parallel programming*, Parallel and Distributed Processing Symposium (IPDPS), 2015 IEEE International"
   ]
  },
  {
   "cell_type": "markdown",
   "metadata": {
    "slideshow": {
     "slide_type": "subslide"
    }
   },
   "source": [
    "### History\n",
    "Julia development started in 2012.\n",
    "\n",
    "Milestones so far:\n",
    "\n",
    "* 0.1: 28 Feb 2013\n",
    "* 0.2: 25 Nov 2013\n",
    "* 0.3.1: 21 Sep 2014\n",
    "* ...\n",
    "* 0.3.7: 23 Mar 2015\n",
    "* 0.4.1: 08 Nov 2015\n",
    "* 0.4.5: 18 Mar 2016\n",
    "\n",
    "Expected is 0.5.0 in July 2016 with **multi-threading support** and a **debugger**."
   ]
  },
  {
   "cell_type": "markdown",
   "metadata": {
    "slideshow": {
     "slide_type": "slide"
    }
   },
   "source": [
    "### Performance as advertized\n",
    "![](benchmarktable.png)\n",
    "\n",
    "Actually reproducible!"
   ]
  },
  {
   "cell_type": "markdown",
   "metadata": {
    "slideshow": {
     "slide_type": "slide"
    }
   },
   "source": [
    "## Example 1\n",
    "\n",
    "Consider the expression\n",
    "\n",
    "$$\n",
    "    s = \\sum\\limits_{i=1}^n \\frac{i}{2}.\n",
    "$$\n",
    "\n",
    "We write two almost identical Julia functions `f1` and `f2` that evaluate $s$ and learn, that **type stability can substantially increase the code efficiency**.\n",
    "\n",
    "Note: Type declarations are optional in Julia's language description."
   ]
  },
  {
   "cell_type": "code",
   "execution_count": 2,
   "metadata": {
    "collapsed": false,
    "slideshow": {
     "slide_type": "subslide"
    }
   },
   "outputs": [
    {
     "data": {
      "text/plain": [
       "f1 (generic function with 1 method)"
      ]
     },
     "execution_count": 2,
     "metadata": {},
     "output_type": "execute_result"
    }
   ],
   "source": [
    "function f1(n)\n",
    "    s = 0\n",
    "    for i = 1:n\n",
    "        s += i / 2\n",
    "    end\n",
    "    return s\n",
    "end"
   ]
  },
  {
   "cell_type": "code",
   "execution_count": 3,
   "metadata": {
    "collapsed": false,
    "slideshow": {
     "slide_type": "fragment"
    }
   },
   "outputs": [
    {
     "data": {
      "text/plain": [
       "f2 (generic function with 1 method)"
      ]
     },
     "execution_count": 3,
     "metadata": {},
     "output_type": "execute_result"
    }
   ],
   "source": [
    "function f2(n)\n",
    "    s = 0.0\n",
    "    for i = 1:n\n",
    "        s += i / 2.0\n",
    "    end\n",
    "    return s\n",
    "end"
   ]
  },
  {
   "cell_type": "markdown",
   "metadata": {
    "slideshow": {
     "slide_type": "fragment"
    }
   },
   "source": [
    "This kind of operation is called a *reduction*, since it is generally *tensor-rank-reducing*. A vector of numbers is reduced to a single number, etc.\n",
    "\n",
    "The signature of the reduction looks like `x = f(x, v[i])`, where `x` is the *accumulator*, `f` is the *reduction function* (in this case `+`), and the `v[i]` are the elements being reduced."
   ]
  },
  {
   "cell_type": "code",
   "execution_count": 4,
   "metadata": {
    "collapsed": false,
    "slideshow": {
     "slide_type": "skip"
    }
   },
   "outputs": [
    {
     "data": {
      "text/plain": [
       "1.5"
      ]
     },
     "execution_count": 4,
     "metadata": {},
     "output_type": "execute_result"
    }
   ],
   "source": [
    "f1(2)\n",
    "f2(2)"
   ]
  },
  {
   "cell_type": "code",
   "execution_count": 5,
   "metadata": {
    "collapsed": false,
    "slideshow": {
     "slide_type": "subslide"
    }
   },
   "outputs": [
    {
     "name": "stdout",
     "output_type": "stream",
     "text": [
      "  0.687448 seconds (20.00 M allocations: 305.217 MB, 20.26% gc time)\n"
     ]
    },
    {
     "data": {
      "text/plain": [
       "2.50000025e13"
      ]
     },
     "execution_count": 5,
     "metadata": {},
     "output_type": "execute_result"
    }
   ],
   "source": [
    "@time f1(10000000)"
   ]
  },
  {
   "cell_type": "code",
   "execution_count": 6,
   "metadata": {
    "collapsed": false,
    "slideshow": {
     "slide_type": "fragment"
    }
   },
   "outputs": [
    {
     "name": "stdout",
     "output_type": "stream",
     "text": [
      "  0.016307 seconds (5 allocations: 176 bytes)\n"
     ]
    },
    {
     "data": {
      "text/plain": [
       "2.50000025e13"
      ]
     },
     "execution_count": 6,
     "metadata": {},
     "output_type": "execute_result"
    }
   ],
   "source": [
    "@time f2(10000000)"
   ]
  },
  {
   "cell_type": "markdown",
   "metadata": {
    "slideshow": {
     "slide_type": "fragment"
    }
   },
   "source": [
    "#### Summary:\n",
    "Type stable statements (`s = 0.0`) provide the necessary information that the JIT-compiler requires to generate efficient code both in terms of speed and memory requirements.\n",
    "\n",
    "In the example above, we observe a speedup of about 40 just by introducing type stability!"
   ]
  },
  {
   "cell_type": "markdown",
   "metadata": {
    "slideshow": {
     "slide_type": "slide"
    }
   },
   "source": [
    "#### A further note on reductions:\n",
    "\n",
    "Reductions can be parallelized when the reduction function `f` is associative. This is the case for the addition (`+`).\n",
    "\n",
    "To demonstrate a simple parallelization on reductions, we inspect Julia's `@parallel` statement."
   ]
  },
  {
   "cell_type": "code",
   "execution_count": 8,
   "metadata": {
    "collapsed": false,
    "slideshow": {
     "slide_type": "fragment"
    }
   },
   "outputs": [
    {
     "data": {
      "text/plain": [
       "f3 (generic function with 2 methods)"
      ]
     },
     "execution_count": 8,
     "metadata": {},
     "output_type": "execute_result"
    }
   ],
   "source": [
    "function f3(n)\n",
    "    s::Float64 = @parallel (+) for i = 1:n\n",
    "        i / 2.0\n",
    "    end\n",
    "    return s\n",
    "end"
   ]
  },
  {
   "cell_type": "code",
   "execution_count": 9,
   "metadata": {
    "collapsed": false,
    "slideshow": {
     "slide_type": "skip"
    }
   },
   "outputs": [
    {
     "data": {
      "text/plain": [
       "2525.0"
      ]
     },
     "execution_count": 9,
     "metadata": {},
     "output_type": "execute_result"
    }
   ],
   "source": [
    "f3(100)"
   ]
  },
  {
   "cell_type": "code",
   "execution_count": 10,
   "metadata": {
    "collapsed": false,
    "slideshow": {
     "slide_type": "fragment"
    }
   },
   "outputs": [
    {
     "name": "stdout",
     "output_type": "stream",
     "text": [
      "  0.059286 seconds (2.07 k allocations: 160.344 KB)\n"
     ]
    },
    {
     "data": {
      "text/plain": [
       "2.50000025e13"
      ]
     },
     "execution_count": 10,
     "metadata": {},
     "output_type": "execute_result"
    }
   ],
   "source": [
    "@time f3(10000000)"
   ]
  },
  {
   "cell_type": "markdown",
   "metadata": {
    "slideshow": {
     "slide_type": "fragment"
    }
   },
   "source": [
    "Remark: Parallelization is not effectiv when only a few workers are available.\n",
    "\n",
    "For reference, the results were obtained with 2 worker processes on a LENOVO ThinkPad T550 notebook with an Intel(R) Core(TM) i5-5200U CPU running at 2.20GHz."
   ]
  },
  {
   "cell_type": "markdown",
   "metadata": {
    "slideshow": {
     "slide_type": "slide"
    }
   },
   "source": [
    "## Example 2\n",
    "\n",
    "We consider the numerical approximation of $\\pi$ using a Monte Carlo method.\n",
    "\n",
    "Idea: Throwing darts $n$ times into a unit square $[0,1] \\times [0,1]$ and count hits only if $\\sqrt{x^2 + y^2} < 1$.\n",
    "To obtain meaningful results, $n$ should be a sufficiently large number.\n",
    "\n",
    "Note: Counting the hits is a very expensive way of calculating the definite integral\n",
    "\n",
    "$$\n",
    "    A = \\int_{\\varphi = 0}^{\\pi/4} \\int_{r=0}^1 r\\, dr\\,d\\varphi.\n",
    "$$\n",
    "\n",
    "Then, recalling that the area of a unit quarter-circle is $A = \\pi/4$, $\\pi \\approx 4 \\frac{n_{inside}}{n}$."
   ]
  },
  {
   "cell_type": "markdown",
   "metadata": {
    "slideshow": {
     "slide_type": "slide"
    }
   },
   "source": [
    "We will implement a sequential and a parallel version. For the latter, we follow the notion of *reduction* and make use of the `@parallel` macro."
   ]
  },
  {
   "cell_type": "code",
   "execution_count": 11,
   "metadata": {
    "collapsed": false,
    "slideshow": {
     "slide_type": "fragment"
    }
   },
   "outputs": [
    {
     "data": {
      "text/plain": [
       "seq_findpi (generic function with 1 method)"
      ]
     },
     "execution_count": 11,
     "metadata": {},
     "output_type": "execute_result"
    }
   ],
   "source": [
    "function seq_findpi(n::Int64)\n",
    "    inside = 0\n",
    "    for i = 1:n\n",
    "        x, y = rand(2)\n",
    "        if x^2 + y^2 < 1.0\n",
    "            inside += 1\n",
    "        end\n",
    "    end\n",
    "    return 4 * inside / n\n",
    "end"
   ]
  },
  {
   "cell_type": "code",
   "execution_count": 12,
   "metadata": {
    "collapsed": false,
    "slideshow": {
     "slide_type": "fragment"
    }
   },
   "outputs": [
    {
     "data": {
      "text/plain": [
       "par_findpi (generic function with 1 method)"
      ]
     },
     "execution_count": 12,
     "metadata": {},
     "output_type": "execute_result"
    }
   ],
   "source": [
    "function par_findpi(n::Int64)\n",
    "    inside =  @parallel (+) for i = 1:n\n",
    "        x, y = rand(2)\n",
    "        x^2 + y^2 < 1.0 ? 1 : 0\n",
    "    end\n",
    "    return 4 * inside / n\n",
    "end"
   ]
  },
  {
   "cell_type": "code",
   "execution_count": 13,
   "metadata": {
    "collapsed": false,
    "slideshow": {
     "slide_type": "skip"
    }
   },
   "outputs": [
    {
     "data": {
      "text/plain": [
       "2.0"
      ]
     },
     "execution_count": 13,
     "metadata": {},
     "output_type": "execute_result"
    }
   ],
   "source": [
    "seq_findpi(10)\n",
    "par_findpi(10)"
   ]
  },
  {
   "cell_type": "markdown",
   "metadata": {
    "slideshow": {
     "slide_type": "slide"
    }
   },
   "source": [
    "Execution yields the expected result:"
   ]
  },
  {
   "cell_type": "code",
   "execution_count": 16,
   "metadata": {
    "collapsed": false,
    "slideshow": {
     "slide_type": "fragment"
    }
   },
   "outputs": [
    {
     "name": "stdout",
     "output_type": "stream",
     "text": [
      "  1.693367 seconds (20.00 M allocations: 915.528 MB, 9.77% gc time)\n"
     ]
    },
    {
     "data": {
      "text/plain": [
       "3.1419252"
      ]
     },
     "execution_count": 16,
     "metadata": {},
     "output_type": "execute_result"
    }
   ],
   "source": [
    "@time seq_findpi(10000000)"
   ]
  },
  {
   "cell_type": "code",
   "execution_count": 17,
   "metadata": {
    "collapsed": false,
    "slideshow": {
     "slide_type": "fragment"
    }
   },
   "outputs": [
    {
     "name": "stdout",
     "output_type": "stream",
     "text": [
      "  1.064111 seconds (3.62 k allocations: 280.516 KB)\n"
     ]
    },
    {
     "data": {
      "text/plain": [
       "3.1416244"
      ]
     },
     "execution_count": 17,
     "metadata": {},
     "output_type": "execute_result"
    }
   ],
   "source": [
    "@time par_findpi(10000000)"
   ]
  },
  {
   "cell_type": "markdown",
   "metadata": {
    "slideshow": {
     "slide_type": "fragment"
    }
   },
   "source": [
    "On a multi-core CPU using 8 cores, the speedup was 6.7!"
   ]
  },
  {
   "cell_type": "markdown",
   "metadata": {
    "slideshow": {
     "slide_type": "slide"
    }
   },
   "source": [
    "## Example 3\n",
    "\n",
    "As a more realistic example, we consider the problem of non-stationary heat equation in 1-D:\n",
    "\n",
    "$$\n",
    "    \\partial^2_{xx} u(x, t) - c \\partial_t u(x, t) = 0\\quad \\text{ in }\\Omega \\in [0, \\pi] \\times [0, 1]\n",
    "$$\n",
    "\n",
    "with boundary conditions\n",
    "\n",
    "$$\n",
    "    u(0, t) = u(\\pi, t) = 0\n",
    "$$\n",
    "\n",
    "and the analytical solution for $c = 1$\n",
    "\n",
    "$$\n",
    "    u(x, t) = 3 \\exp(-t) \\sin(x) -\n",
    "    \\exp(-4t)  \\sin(2x) + \\exp(-9t)  \\sin(3x).\n",
    "$$\n",
    "\n",
    "Discretization in space and time: $x \\mapsto x_i$, $t \\mapsto t^n$, $u \\mapsto u^n_i$ yields\n",
    "\n",
    "$$\n",
    "    \\partial^2_{xx} u \\approx \\frac{u_{i-1} -2u_i + u_{j+1}}{\\Delta x^2}, \\quad \\partial_t u \\approx \\frac{u^{n+1} - u^n}{\\Delta t}\n",
    "$$\n",
    "with $\\Delta x$ and $\\Delta t$ equidistant steps in space and time, resp."
   ]
  },
  {
   "cell_type": "markdown",
   "metadata": {
    "slideshow": {
     "slide_type": "slide"
    }
   },
   "source": [
    "Discretization of $\\partial^2_{xx}$ on equidistant grid yields matrix\n",
    "$$\n",
    "    \\mathbf A = \\frac{1}{\\Delta x^2}\\begin{bmatrix}\n",
    "        -2 &  1     & 0      & \\dots  & 0 \\\\\n",
    "        1  & -2     & 1      & \\dots  & 0 \\\\\n",
    "    \\vdots & \\vdots & \\vdots & \\ddots & \\vdots \\\\\n",
    "         0 &  0     & 0      & 1      & -2\n",
    "    \\end{bmatrix}.\n",
    "$$\n",
    "\n",
    "After rearranging terms we obtain\n",
    "$$\n",
    "    [\\mathbf I - \\Delta t \\mathbf A]u^{n+1} = u^n.\n",
    "$$\n",
    "\n",
    "Note that for TEM simulations, $\\mathbf A$ and $\\mathbf I$ have to be replaced by the discretization of the *curl-curl* operator $\\mathbf K$, and the discretization of the electrical conductivity, $\\mathbf M$, resp. The initial condition $u^0$ would be represented by the current distribution at $t=0^+$."
   ]
  },
  {
   "cell_type": "code",
   "execution_count": 18,
   "metadata": {
    "collapsed": false,
    "slideshow": {
     "slide_type": "slide"
    }
   },
   "outputs": [
    {
     "data": {
      "text/plain": [
       "5000"
      ]
     },
     "execution_count": 18,
     "metadata": {},
     "output_type": "execute_result"
    }
   ],
   "source": [
    "dx = pi / 5001.0\n",
    "x = collect(0.0:dx:pi)\n",
    "nx = length(x) - 2\n",
    "A = spdiagm(\n",
    "    (ones(nx - 1), -2.0*ones(nx), ones(nx - 1)),\n",
    "    [-1, 0, 1],\n",
    "    nx, nx)\n",
    "A = A / (dx * dx)\n",
    "nx"
   ]
  },
  {
   "cell_type": "code",
   "execution_count": 19,
   "metadata": {
    "collapsed": false,
    "slideshow": {
     "slide_type": "fragment"
    }
   },
   "outputs": [
    {
     "data": {
      "text/plain": [
       "1000"
      ]
     },
     "execution_count": 19,
     "metadata": {},
     "output_type": "execute_result"
    }
   ],
   "source": [
    "dt = 1.0e-3\n",
    "t = collect(0.0:dt:1.0)\n",
    "nt = length(t) - 1"
   ]
  },
  {
   "cell_type": "code",
   "execution_count": 20,
   "metadata": {
    "collapsed": false,
    "slideshow": {
     "slide_type": "fragment"
    }
   },
   "outputs": [],
   "source": [
    "ana(x, t) = 3.0 * exp(-t) * sin(x) -\n",
    "    exp(-4.0 * t) * sin(2.0 * x) + exp(-9.0 * t) * sin(3.0 * x)\n",
    "u0 = ana(x, 0.0);"
   ]
  },
  {
   "cell_type": "code",
   "execution_count": 21,
   "metadata": {
    "collapsed": false,
    "slideshow": {
     "slide_type": "slide"
    }
   },
   "outputs": [
    {
     "data": {
      "text/plain": [
       "implicitEuler (generic function with 1 method)"
      ]
     },
     "execution_count": 21,
     "metadata": {},
     "output_type": "execute_result"
    }
   ],
   "source": [
    "function implicitEuler(K::AbstractSparseMatrix, M::AbstractSparseMatrix, b::AbstractArray, dt::Float64)\n",
    "    n = size(K, 1)\n",
    "    nt = size(b, 2)\n",
    "    u = zeros(Float64, n, nt)\n",
    "    rhs = zeros(Float64, n)\n",
    "    B = cholfact(M + dt * K)\n",
    "    u[:, 1] = B \\ b[:, 1]\n",
    "    Mu = zeros(Float64, n)\n",
    "    for j = 2:nt\n",
    "        Base.A_mul_B!(Mu, M, u[:, j-1])\n",
    "        rhs = b[:, j] + Mu\n",
    "        u[:, j] = B \\ rhs\n",
    "    end\n",
    "    return u\n",
    "end"
   ]
  },
  {
   "cell_type": "code",
   "execution_count": 22,
   "metadata": {
    "collapsed": false,
    "slideshow": {
     "slide_type": "fragment"
    }
   },
   "outputs": [
    {
     "name": "stdout",
     "output_type": "stream",
     "text": [
      "  1.801163 seconds (590.57 k allocations: 447.545 MB, 15.06% gc time)\n"
     ]
    }
   ],
   "source": [
    "u = zeros(eltype(u0), nx, nt)\n",
    "u[:, 1] = u0[2:end-1]\n",
    "@time uu = implicitEuler(-A, speye(nx), u, dt);"
   ]
  },
  {
   "cell_type": "markdown",
   "metadata": {
    "slideshow": {
     "slide_type": "slide"
    }
   },
   "source": [
    "## Julia's Ecosystem\n",
    "\n",
    "### Packages (June 2016)\n",
    "\n",
    "![pulse](allver.png)"
   ]
  },
  {
   "cell_type": "markdown",
   "metadata": {
    "slideshow": {
     "slide_type": "slide"
    }
   },
   "source": [
    "### Installing Julia\n",
    "\n",
    "Go to [julialang.org](www.julialang.org) and choose the appropriate installer.\n",
    "\n",
    "### Running Julia\n",
    "\n",
    "* In the terminal using the built-in command line\n",
    "* In the Juno IDE\n",
    "* In the browser with Jupyter notebooks."
   ]
  },
  {
   "cell_type": "markdown",
   "metadata": {
    "slideshow": {
     "slide_type": "slide"
    }
   },
   "source": [
    "### Julia in the terminal\n",
    "\n",
    "REPL: **R**ead-**E**valuate-**P**rint **L**oop\n",
    "\n",
    "![REPL](REPL.png)"
   ]
  },
  {
   "cell_type": "markdown",
   "metadata": {
    "slideshow": {
     "slide_type": "slide"
    }
   },
   "source": [
    "### Calling Julia on HPC\n",
    "\n",
    "`$ julia -p 512 extremely_large_numerical_problem.jl`\n",
    "\n",
    "starts Julia on 512 processors in a non-interactive mode."
   ]
  },
  {
   "cell_type": "markdown",
   "metadata": {
    "slideshow": {
     "slide_type": "subslide"
    }
   },
   "source": [
    "### Running Julia in the Juno IDE\n",
    "\n",
    "Juno is built on the highly customizable editor [Atom](http://www.atom.io).\n",
    "\n",
    "1. Install Atom\n",
    "2. Within Atom, go to Settings and install package `uber-juno`\n",
    "\n",
    "![](atom.png)"
   ]
  },
  {
   "cell_type": "markdown",
   "metadata": {
    "slideshow": {
     "slide_type": "slide"
    }
   },
   "source": [
    "### Jupyter notebooks\n",
    "\n",
    "Interactive \"narrative\" environment running in the browser.\n",
    "\n",
    "Setup is easy:\n",
    "\n",
    "1. Install Python (Anaconda is highly recommended https://www.continuum.io/downloads)\n",
    "2. In Julia, add package \"IJulia\""
   ]
  },
  {
   "cell_type": "markdown",
   "metadata": {
    "slideshow": {
     "slide_type": "slide"
    }
   },
   "source": [
    "In a terminal, start a jupyter session:\n",
    "\n",
    "![](jupyter-in-terminal.png)"
   ]
  },
  {
   "cell_type": "markdown",
   "metadata": {
    "slideshow": {
     "slide_type": "slide"
    }
   },
   "source": [
    "### Jupyter notebooks\n",
    "\n",
    "![Jupyter](jupyter.png)"
   ]
  },
  {
   "cell_type": "markdown",
   "metadata": {
    "slideshow": {
     "slide_type": "slide"
    }
   },
   "source": [
    "### Migration from MATLAB to Julia\n",
    "\n",
    "Arrays: x(1) in MATLAB becomes x[1] in Julia. Arrays are passed by reference. A=B is dangerous!\n",
    "\n",
    "Successfully ported:\n",
    "* Nedelec.jl: Nédélec Finite Elements (forked from J. Weißflogs MATLAB implementation)\n",
    "* SparseTensors.jl: Sparse 3-way-tensor extensively used in our EM inversion schemes\n",
    "* TetrahedralMeshes.jl: Working with tetrahedral meshes generated by the TetGen library\n",
    "* EulerMethod.jl: Euler method for time integration of ODE's\n",
    "\n",
    "### Other geophysics-related Julia packages\n",
    "\n",
    "* Seismic.jl: SeismicJulia package developed at U of Alberta, Canada\n",
    "* jInv.jl: Flexible Framework for Parallel PDE Parameter Estimation in Julia, U of British Columbia, Vancouver, Canada (E. Haber, L. Ruthotto)"
   ]
  },
  {
   "cell_type": "markdown",
   "metadata": {
    "slideshow": {
     "slide_type": "subslide"
    }
   },
   "source": [
    "# Why not make your next language Julia?\n",
    "## It might even be the last one you need to learn...\n",
    "![](julia.png)\n",
    "\n",
    "www.julialang.org\n",
    "\n",
    "www.atom.io\n",
    "\n",
    "www.continuum.io/downloads"
   ]
  }
 ],
 "metadata": {
  "celltoolbar": "Slideshow",
  "kernelspec": {
   "display_name": "Julia 0.4.5",
   "language": "julia",
   "name": "julia-0.4"
  },
  "language_info": {
   "file_extension": ".jl",
   "mimetype": "application/julia",
   "name": "julia",
   "version": "0.4.5"
  }
 },
 "nbformat": 4,
 "nbformat_minor": 0
}
